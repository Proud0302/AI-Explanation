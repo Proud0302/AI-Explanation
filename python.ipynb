{
  "cells": [
    {
      "cell_type": "markdown",
      "metadata": {
        "id": "view-in-github",
        "colab_type": "text"
      },
      "source": [
        "<a href=\"https://colab.research.google.com/github/Proud0302/AI-Explanation/blob/main/python.ipynb\" target=\"_parent\"><img src=\"https://colab.research.google.com/assets/colab-badge.svg\" alt=\"Open In Colab\"/></a>"
      ]
    },
    {
      "cell_type": "markdown",
      "source": [
        "# Function"
      ],
      "metadata": {
        "id": "rkklmxvYTSDu"
      }
    },
    {
      "cell_type": "code",
      "source": [
        "data = input(\"ชื่อตัวละคร:\")\n",
        "\n",
        "match data:\n",
        "  case \"Bear\":\n",
        "    print (\"Bear\")\n",
        "  case \"Panda\":\n",
        "    print (\"Panda\")\n",
        "  case \"Ice bear\":\n",
        "    print(\"Ice bear\")\n",
        "  case _:\n",
        "    print(\"ไม่พบข้อมูล\")\n",
        "\n"
      ],
      "metadata": {
        "id": "2UFodqifTTym"
      },
      "execution_count": null,
      "outputs": []
    },
    {
      "cell_type": "markdown",
      "source": [
        "# Function x input"
      ],
      "metadata": {
        "id": "QFinxe-C4J2_"
      }
    },
    {
      "cell_type": "code",
      "source": [
        "data = input(\"ชื่อ Sanrio\")\n",
        "\n",
        "match data:\n",
        "  case\"Kuromi\":\n",
        "    print(\"Kuromi\")\n",
        "  case\"Hello kitty\":\n",
        "    print(\"Hello kitty\")\n",
        "  case\"Mymelody\":\n",
        "    print(\"Mymelody\")\n",
        "  case\"Cinnamonroll\":\n",
        "    print(\"Cinnamonroll\")\n",
        "  case\"Pompompurin\":\n",
        "    print(\"Pompomburin\")\n",
        "  case _:\n",
        "    print(\"ไม่พบข้อมูล\")"
      ],
      "metadata": {
        "id": "Qrd1rDSV4OlH"
      },
      "execution_count": null,
      "outputs": []
    },
    {
      "cell_type": "markdown",
      "source": [
        "# Pretest return function"
      ],
      "metadata": {
        "id": "UCMl-z8O2JUj"
      }
    },
    {
      "cell_type": "code",
      "source": [
        "def Sanrio():\n",
        "      return \"Kuromi\"\n",
        "def Sanrio1():\n",
        "      return \"Hello kitty\"\n",
        "def Sanrio2():\n",
        "      return \"Mymelody\"\n",
        "def Sanrio3():\n",
        "      return \"Cinnamonroll\"\n",
        "def Sanrio4():\n",
        "      return \"Little twin stars\"\n",
        "\n",
        "\n",
        "\n",
        "myData = Sanrio()\n",
        "print (\"Sanrio ที่ฉันชอบคือ\", myData)\n",
        "myData = Sanrio1()\n",
        "print (\"Sanrio ที่ฉันชอบคือ\", myData)\n",
        "myData = Sanrio2()\n",
        "print (\"Sanrio ที่ฉันชอบคือ\", myData)\n",
        "myData = Sanrio3()\n",
        "print (\"Sanrio ที่ฉันชอบคือ\", myData)\n",
        "myData = Sanrio4()\n",
        "print (\"Sanrio ที่ฉันชอบคือ\", myData)\n",
        "\n",
        "\n"
      ],
      "metadata": {
        "id": "UO6AawvL2PNL"
      },
      "execution_count": null,
      "outputs": []
    },
    {
      "cell_type": "markdown",
      "source": [
        "# Fuction parameter"
      ],
      "metadata": {
        "id": "TDRWoqC-Uq8b"
      }
    },
    {
      "cell_type": "code",
      "source": [
        "def demofunction(name,name2,name3):\n",
        "  print(\"Hello\",name)\n",
        "  print(\"Welcome\",name2)\n",
        "  print(\"Hi\",name3)\n",
        "  print(\"----------------------\")\n",
        "\n",
        "\n",
        "demofunction(\"Panda\",\"Ice bear\",\"bear\")\n",
        "demofunction(\"Pan\",\"Ice \",\"bee\")\n",
        "demofunction(\"Cat\",\"Dog\",\"wolf\")\n"
      ],
      "metadata": {
        "id": "6MILRNaJUwpy"
      },
      "execution_count": null,
      "outputs": []
    },
    {
      "cell_type": "markdown",
      "source": [
        "# return function"
      ],
      "metadata": {
        "id": "trDmEI_Ndh8I"
      }
    },
    {
      "cell_type": "code",
      "source": [
        "def food1():\n",
        "      return\"Cookie\"\n",
        "\n",
        "def food2():\n",
        "      return\"Cake\"\n",
        "\n",
        "def food3():\n",
        "      return\"Ice cream\"\n",
        "\n",
        "\n",
        "myData = food1()\n",
        "print(\"ของหวานที่ชอบคือ\",myData)\n",
        "print(\"----------------------------\")\n",
        "myData = food2()\n",
        "print(\"ของหวานที่ชอบคือ\",myData)\n",
        "print(\"------------------------------\")\n",
        "myData = food3()\n",
        "print(\"ของหวานที่ชอบคือ\",myData)\n"
      ],
      "metadata": {
        "id": "4MwXYl-Adpo_"
      },
      "execution_count": null,
      "outputs": []
    },
    {
      "cell_type": "markdown",
      "source": [
        "# Value Function"
      ],
      "metadata": {
        "id": "f0zG_uc36T5y"
      }
    },
    {
      "cell_type": "code",
      "source": [
        "def data (country = \"Norway\"):\n",
        "   print(\"I am from\" +  country)\n",
        "\n",
        "data()\n",
        "data(\"Thailand\")\n",
        "data(\"Japan\")\n",
        "data(\"Chinese\")\n",
        "data(\"England\")"
      ],
      "metadata": {
        "id": "ed1TG8s-6XK6"
      },
      "execution_count": null,
      "outputs": []
    }
  ],
  "metadata": {
    "colab": {
      "name": "ยินดีต้อนรับสู่ Colaboratory",
      "toc_visible": true,
      "provenance": [],
      "include_colab_link": true
    },
    "kernelspec": {
      "display_name": "Python 3",
      "name": "python3"
    }
  },
  "nbformat": 4,
  "nbformat_minor": 0
}