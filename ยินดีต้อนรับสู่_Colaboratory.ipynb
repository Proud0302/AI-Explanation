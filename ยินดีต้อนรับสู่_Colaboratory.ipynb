{
  "cells": [
    {
      "cell_type": "markdown",
      "metadata": {
        "id": "view-in-github",
        "colab_type": "text"
      },
      "source": [
        "<a href=\"https://colab.research.google.com/github/Proud0302/AI-Explanation/blob/main/%E0%B8%A2%E0%B8%B4%E0%B8%99%E0%B8%94%E0%B8%B5%E0%B8%95%E0%B9%89%E0%B8%AD%E0%B8%99%E0%B8%A3%E0%B8%B1%E0%B8%9A%E0%B8%AA%E0%B8%B9%E0%B9%88_Colaboratory.ipynb\" target=\"_parent\"><img src=\"https://colab.research.google.com/assets/colab-badge.svg\" alt=\"Open In Colab\"/></a>"
      ]
    },
    {
      "cell_type": "markdown",
      "source": [
        "Function"
      ],
      "metadata": {
        "id": "rkklmxvYTSDu"
      }
    },
    {
      "cell_type": "code",
      "source": [
        "data = input(\"ชื่อตัวละคร:\")\n",
        "\n",
        "match data:\n",
        "  case \"Bear\":\n",
        "    print (\"Bear\")\n",
        "  case \"Panda\":\n",
        "    print (\"Panda\")\n",
        "  case \"Ice bear\":\n",
        "    print(\"Ice bear\")\n",
        "  case _:\n",
        "    print(\"ไม่พบข้อมูล\")\n",
        "\n"
      ],
      "metadata": {
        "id": "2UFodqifTTym",
        "outputId": "08710bbd-e4b9-4033-c9ff-214d4c25a66b",
        "colab": {
          "base_uri": "https://localhost:8080/"
        }
      },
      "execution_count": 3,
      "outputs": [
        {
          "output_type": "stream",
          "name": "stdout",
          "text": [
            "ชื่อตัวละคร:pp\n",
            "ไม่พบข้อมูล\n"
          ]
        }
      ]
    },
    {
      "cell_type": "markdown",
      "source": [
        "Fuction parameter"
      ],
      "metadata": {
        "id": "TDRWoqC-Uq8b"
      }
    },
    {
      "cell_type": "code",
      "source": [
        "def demofunction(name,name2,name3):\n",
        "  print(\"Hello\",name)\n",
        "  print(\"Welcome\",name2)\n",
        "  print(\"Hi\",name3)\n",
        "  print(\"----------------------\")\n",
        "\n",
        "\n",
        "demofunction(\"Panda\",\"Ice bear\",\"bear\")\n",
        "demofunction(\"Pan\",\"Ice \",\"bee\")\n",
        "demofunction(\"Cat\",\"Dog\",\"wolf\")\n"
      ],
      "metadata": {
        "id": "6MILRNaJUwpy",
        "outputId": "9ede4375-d1c3-4395-bc70-8e7805d24a01",
        "colab": {
          "base_uri": "https://localhost:8080/"
        }
      },
      "execution_count": 14,
      "outputs": [
        {
          "output_type": "stream",
          "name": "stdout",
          "text": [
            "Hello Panda\n",
            "Welcome Ice bear\n",
            "Hi bear\n",
            "----------------------\n",
            "Hello Pan\n",
            "Welcome Ice \n",
            "Hi bee\n",
            "----------------------\n",
            "Hello Cat\n",
            "Welcome Dog\n",
            "Hi wolf\n",
            "----------------------\n"
          ]
        }
      ]
    },
    {
      "cell_type": "markdown",
      "source": [
        "return function"
      ],
      "metadata": {
        "id": "trDmEI_Ndh8I"
      }
    },
    {
      "cell_type": "code",
      "source": [
        "def food1():\n",
        "      return\"Cookie\"\n",
        "\n",
        "def food2():\n",
        "      return\"Cake\"\n",
        "\n",
        "def food3():\n",
        "      return\"Ice cream\"\n",
        "\n",
        "\n",
        "myData = food1()\n",
        "print(\"ของหวานที่ชอบคือ\",myData)\n",
        "print(\"----------------------------\")\n",
        "myData = food2()\n",
        "print(\"ของหวานที่ชอบคือ\",myData)\n",
        "print(\"------------------------------\")\n",
        "myData = food3()\n",
        "print(\"ของหวานที่ชอบคือ\",myData)\n"
      ],
      "metadata": {
        "id": "4MwXYl-Adpo_",
        "outputId": "c66bc2c1-b747-4200-9cc6-7ad74c3d7093",
        "colab": {
          "base_uri": "https://localhost:8080/"
        }
      },
      "execution_count": 28,
      "outputs": [
        {
          "output_type": "stream",
          "name": "stdout",
          "text": [
            "ของหวานที่ชอบคือ Cookie\n",
            "----------------------------\n",
            "ของหวานที่ชอบคือ Cake\n",
            "------------------------------\n",
            "ของหวานที่ชอบคือ Ice cream\n"
          ]
        }
      ]
    }
  ],
  "metadata": {
    "colab": {
      "name": "ยินดีต้อนรับสู่ Colaboratory",
      "toc_visible": true,
      "provenance": [],
      "include_colab_link": true
    },
    "kernelspec": {
      "display_name": "Python 3",
      "name": "python3"
    }
  },
  "nbformat": 4,
  "nbformat_minor": 0
}