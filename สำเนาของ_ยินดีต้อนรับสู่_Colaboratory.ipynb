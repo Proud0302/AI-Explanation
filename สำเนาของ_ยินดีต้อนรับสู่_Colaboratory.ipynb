{
  "cells": [
    {
      "cell_type": "markdown",
      "metadata": {
        "id": "view-in-github",
        "colab_type": "text"
      },
      "source": [
        "<a href=\"https://colab.research.google.com/github/Proud0302/AI-Explanation/blob/main/%E0%B8%AA%E0%B8%B3%E0%B9%80%E0%B8%99%E0%B8%B2%E0%B8%82%E0%B8%AD%E0%B8%87_%E0%B8%A2%E0%B8%B4%E0%B8%99%E0%B8%94%E0%B8%B5%E0%B8%95%E0%B9%89%E0%B8%AD%E0%B8%99%E0%B8%A3%E0%B8%B1%E0%B8%9A%E0%B8%AA%E0%B8%B9%E0%B9%88_Colaboratory.ipynb\" target=\"_parent\"><img src=\"https://colab.research.google.com/assets/colab-badge.svg\" alt=\"Open In Colab\"/></a>"
      ]
    },
    {
      "cell_type": "markdown",
      "source": [
        "# Function"
      ],
      "metadata": {
        "id": "rkklmxvYTSDu"
      }
    },
    {
      "cell_type": "code",
      "source": [
        "data = input(\"ชื่อตัวละคร:\")\n",
        "\n",
        "match data:\n",
        "  case \"Bear\":\n",
        "    print (\"Bear\")\n",
        "  case \"Panda\":\n",
        "    print (\"Panda\")\n",
        "  case \"Ice bear\":\n",
        "    print(\"Ice bear\")\n",
        "  case _:\n",
        "    print(\"ไม่พบข้อมูล\")\n",
        "\n"
      ],
      "metadata": {
        "id": "2UFodqifTTym"
      },
      "execution_count": null,
      "outputs": []
    },
    {
      "cell_type": "markdown",
      "source": [
        "# Function x input"
      ],
      "metadata": {
        "id": "QFinxe-C4J2_"
      }
    },
    {
      "cell_type": "code",
      "source": [
        "data = input(\"ชื่อ Sanrio\")\n",
        "\n",
        "match data:\n",
        "  case\"Kuromi\":\n",
        "    print(\"Kuromi\")\n",
        "  case\"Hello kitty\":\n",
        "    print(\"Hello kitty\")\n",
        "  case\"Mymelody\":\n",
        "    print(\"Mymelody\")\n",
        "  case\"Cinnamonroll\":\n",
        "    print(\"Cinnamonroll\")\n",
        "  case\"Pompompurin\":\n",
        "    print(\"Pompomburin\")\n",
        "  case _:\n",
        "    print(\"ไม่พบข้อมูล\")"
      ],
      "metadata": {
        "id": "Qrd1rDSV4OlH"
      },
      "execution_count": null,
      "outputs": []
    },
    {
      "cell_type": "markdown",
      "source": [
        "# Pretest return function"
      ],
      "metadata": {
        "id": "UCMl-z8O2JUj"
      }
    },
    {
      "cell_type": "code",
      "source": [
        "def Sanrio():\n",
        "      return \"Kuromi\"\n",
        "def Sanrio1():\n",
        "      return \"Hello kitty\"\n",
        "def Sanrio2():\n",
        "      return \"Mymelody\"\n",
        "def Sanrio3():\n",
        "      return \"Cinnamonroll\"\n",
        "def Sanrio4():\n",
        "      return \"Little twin stars\"\n",
        "\n",
        "\n",
        "\n",
        "myData = Sanrio()\n",
        "print (\"Sanrio ที่ฉันชอบคือ\", myData)\n",
        "myData = Sanrio1()\n",
        "print (\"Sanrio ที่ฉันชอบคือ\", myData)\n",
        "myData = Sanrio2()\n",
        "print (\"Sanrio ที่ฉันชอบคือ\", myData)\n",
        "myData = Sanrio3()\n",
        "print (\"Sanrio ที่ฉันชอบคือ\", myData)\n",
        "myData = Sanrio4()\n",
        "print (\"Sanrio ที่ฉันชอบคือ\", myData)\n",
        "\n",
        "\n"
      ],
      "metadata": {
        "id": "UO6AawvL2PNL"
      },
      "execution_count": null,
      "outputs": []
    },
    {
      "cell_type": "markdown",
      "source": [
        "# Fuction parameter"
      ],
      "metadata": {
        "id": "TDRWoqC-Uq8b"
      }
    },
    {
      "cell_type": "code",
      "source": [
        "def demofunction(name,name2,name3):\n",
        "  print(\"Hello\",name)\n",
        "  print(\"Welcome\",name2)\n",
        "  print(\"Hi\",name3)\n",
        "  print(\"----------------------\")\n",
        "\n",
        "\n",
        "demofunction(\"Panda\",\"Ice bear\",\"bear\")\n",
        "demofunction(\"Pan\",\"Ice \",\"bee\")\n",
        "demofunction(\"Cat\",\"Dog\",\"wolf\")\n"
      ],
      "metadata": {
        "id": "6MILRNaJUwpy"
      },
      "execution_count": null,
      "outputs": []
    },
    {
      "cell_type": "markdown",
      "source": [
        "# return function"
      ],
      "metadata": {
        "id": "trDmEI_Ndh8I"
      }
    },
    {
      "cell_type": "code",
      "source": [
        "def food1():\n",
        "      return\"Cookie\"\n",
        "\n",
        "def food2():\n",
        "      return\"Cake\"\n",
        "\n",
        "def food3():\n",
        "      return\"Ice cream\"\n",
        "\n",
        "\n",
        "myData = food1()\n",
        "print(\"ของหวานที่ชอบคือ\",myData)\n",
        "print(\"----------------------------\")\n",
        "myData = food2()\n",
        "print(\"ของหวานที่ชอบคือ\",myData)\n",
        "print(\"------------------------------\")\n",
        "myData = food3()\n",
        "print(\"ของหวานที่ชอบคือ\",myData)\n"
      ],
      "metadata": {
        "id": "4MwXYl-Adpo_"
      },
      "execution_count": null,
      "outputs": []
    },
    {
      "cell_type": "markdown",
      "source": [
        "# Value Function"
      ],
      "metadata": {
        "id": "f0zG_uc36T5y"
      }
    },
    {
      "cell_type": "code",
      "source": [
        "def data (country = \"Norway\"):\n",
        "   print(\"I am from\" +  country)\n",
        "\n",
        "data()\n",
        "data(\"Thailand\")\n",
        "data(\"Japan\")\n",
        "data(\"Chinese\")\n",
        "data(\"England\")"
      ],
      "metadata": {
        "id": "ed1TG8s-6XK6"
      },
      "execution_count": null,
      "outputs": []
    },
    {
      "cell_type": "markdown",
      "source": [
        "If-Else Condition"
      ],
      "metadata": {
        "id": "C9-PYcTGak64"
      }
    },
    {
      "cell_type": "code",
      "source": [
        "if condition:\n",
        "  #Code to execute if condition is True ดำเนินการหากเงื่อนไขเป็นจริง\n",
        "elif another_condition:\n",
        "  #Code to execute if the first condition is False and this one is True ดำเนินการหากเงื่อนไขแรกเป็นเท็จและเงื่อไขนี้เป็นจริง\n",
        "else:\n",
        "  #Code to execute if all the previous conditions are False  ดำเนินการหากเงื่อนไขแรกเป็นเท็จและเงื่อนไขนี้เป็นจริง\n",
        "diferrent between elif and else\n",
        "  #ถ้าเขียนต่อเยอะๆให้ใช้ elif จนถึงเขียนเป็นอันสุดท้าย/ปิดจบถึงจะเปลี่ยนเป็น else"
      ],
      "metadata": {
        "id": "SRHYm7qWatGX"
      },
      "execution_count": null,
      "outputs": []
    },
    {
      "cell_type": "markdown",
      "source": [
        "If-else statement"
      ],
      "metadata": {
        "id": "hqyJLFCGchTM"
      }
    },
    {
      "cell_type": "code",
      "source": [
        "x=10\n",
        "\n",
        "if x > 5:\n",
        "    print(\"x is greater than 5\")\n",
        "else:\n",
        "    print(\"X is not greater than 5\")"
      ],
      "metadata": {
        "colab": {
          "base_uri": "https://localhost:8080/"
        },
        "id": "s3CKiWmUcmGr",
        "outputId": "418cc7f9-0956-4aac-b366-e40ec79da6ad"
      },
      "execution_count": 1,
      "outputs": [
        {
          "output_type": "stream",
          "name": "stdout",
          "text": [
            "x is greater than 5\n"
          ]
        }
      ]
    },
    {
      "cell_type": "markdown",
      "source": [
        "if-elif-else"
      ],
      "metadata": {
        "id": "ITvSUYXQdOG8"
      }
    },
    {
      "cell_type": "code",
      "source": [
        "x=10\n",
        "\n",
        "if x > 15:\n",
        "    print(\"x is greater than 15\")\n",
        "elif x > 5:\n",
        "  print(\"x is greater than 5 but less than or equal to 15 \")\n",
        "else:\n",
        "    print(\"x is 5 or less\")"
      ],
      "metadata": {
        "colab": {
          "base_uri": "https://localhost:8080/"
        },
        "id": "f8ofVfjPdg8y",
        "outputId": "4aa7371b-c176-46d8-bb74-c4f534a2eb67"
      },
      "execution_count": 5,
      "outputs": [
        {
          "output_type": "stream",
          "name": "stdout",
          "text": [
            "x is greater than 5 but less than or equal to 15 \n"
          ]
        }
      ]
    },
    {
      "cell_type": "markdown",
      "source": [
        "การใช้ตัวดำเนินการเชิงตรรกะด้วย if-else"
      ],
      "metadata": {
        "id": "Ht27DH8ieNnL"
      }
    },
    {
      "cell_type": "code",
      "source": [
        "x=4\n",
        "y=15\n",
        "\n",
        "if x > 5 and y < 10:\n",
        "    print(\"x is greater then 5 and y is less than 10\")\n",
        "else:\n",
        "    print(\"Condition not met\")"
      ],
      "metadata": {
        "colab": {
          "base_uri": "https://localhost:8080/"
        },
        "id": "KnkLfRi2eanw",
        "outputId": "f4d307d7-8e00-4a24-8b67-67936ff3b32c"
      },
      "execution_count": 7,
      "outputs": [
        {
          "output_type": "stream",
          "name": "stdout",
          "text": [
            "Condition not met\n"
          ]
        }
      ]
    },
    {
      "cell_type": "markdown",
      "source": [
        "if-else คำสั่งซ้อนกัน"
      ],
      "metadata": {
        "id": "vb8Mf-gCfRkI"
      }
    },
    {
      "cell_type": "code",
      "source": [
        "x = 5\n",
        "y = 20\n",
        "\n",
        "if x > 9:\n",
        "    if y > 10:\n",
        "        print(\"x is greater than 5 and y is greater than 15\")\n",
        "    else:\n",
        "      print(\"x is greater than 5 but y is not greater than 15\")\n",
        "else:\n",
        "    print(\"x is not greater than 5\")"
      ],
      "metadata": {
        "colab": {
          "base_uri": "https://localhost:8080/"
        },
        "id": "zeu41VsLfXRe",
        "outputId": "fff28b26-c87c-4398-d4c4-cf7d0688d1f7"
      },
      "execution_count": 9,
      "outputs": [
        {
          "output_type": "stream",
          "name": "stdout",
          "text": [
            "x is not greater than 5\n"
          ]
        }
      ]
    },
    {
      "cell_type": "markdown",
      "source": [
        "การตรวจสอบความเท่ากันและความไม่เท่ากัน"
      ],
      "metadata": {
        "id": "w66BUSKUgpqG"
      }
    },
    {
      "cell_type": "code",
      "source": [
        "x = 10\n",
        "y = 10\n",
        "\n",
        "if x == y:\n",
        "    print(\"x and y are eaqual\")\n",
        "else:\n",
        "    prin(\"x and y are not equal\")"
      ],
      "metadata": {
        "colab": {
          "base_uri": "https://localhost:8080/"
        },
        "id": "LlZppBEbgzWc",
        "outputId": "fc1c22d3-98ba-4b17-ee7a-320aa5351e48"
      },
      "execution_count": 10,
      "outputs": [
        {
          "output_type": "stream",
          "name": "stdout",
          "text": [
            "x and y are eaqual\n"
          ]
        }
      ]
    },
    {
      "cell_type": "markdown",
      "source": [
        "การใช้งาน if-else ร่วมกับตัวแปรบูลีน"
      ],
      "metadata": {
        "id": "hcSHS0UrhT6l"
      }
    },
    {
      "cell_type": "code",
      "source": [
        "is_raining = True\n",
        "\n",
        "if is_raining:\n",
        "    print(\"Take an umbrella.\")\n",
        "else:\n",
        "    print(\"No nedd for an umbrella\")"
      ],
      "metadata": {
        "colab": {
          "base_uri": "https://localhost:8080/"
        },
        "id": "-FqlVkcFhkYs",
        "outputId": "3625a60a-53dd-4431-d3fb-9538ac2d0e8d"
      },
      "execution_count": 12,
      "outputs": [
        {
          "output_type": "stream",
          "name": "stdout",
          "text": [
            "Take an umbrella.\n"
          ]
        }
      ]
    },
    {
      "cell_type": "markdown",
      "source": [
        "ตัวดำเนินการแบบสามส่วน(เงื่อนไข)"
      ],
      "metadata": {
        "id": "7PJ5NKbgig5p"
      }
    },
    {
      "cell_type": "code",
      "source": [
        "x = 2\n",
        "result = \"Greater than 3\" if x > 3 else \"Less than or equal to 3\"\n",
        "print(result)"
      ],
      "metadata": {
        "colab": {
          "base_uri": "https://localhost:8080/"
        },
        "id": "dKjKrT3ziuFg",
        "outputId": "479c4539-76fa-4300-c2b3-d2b29a8398a6"
      },
      "execution_count": 13,
      "outputs": [
        {
          "output_type": "stream",
          "name": "stdout",
          "text": [
            "Less than or equal to 3\n"
          ]
        }
      ]
    }
  ],
  "metadata": {
    "colab": {
      "toc_visible": true,
      "provenance": [],
      "include_colab_link": true
    },
    "kernelspec": {
      "display_name": "Python 3",
      "name": "python3"
    }
  },
  "nbformat": 4,
  "nbformat_minor": 0
}